{
 "cells": [
  {
   "cell_type": "markdown",
   "id": "27511267-c495-4be7-ba84-fbebcb7fc8f8",
   "metadata": {},
   "source": [
    "# 직접 미분"
   ]
  },
  {
   "cell_type": "code",
   "execution_count": null,
   "id": "b6d18731-b788-45ce-be41-384948256ccc",
   "metadata": {},
   "outputs": [],
   "source": [
    "import sympy\n",
    "\n",
    "x = sympy.Symbol('x')\n",
    "f = (x**2 + 2 * x) * sympy.log(x)\n",
    "df = sympy.diff(f, x)\n",
    "\n",
    "print(df)\n",
    "print(sympy.simplify(df))"
   ]
  },
  {
   "cell_type": "code",
   "execution_count": 5,
   "id": "3868f608-72ab-4504-9848-7fc90b7e0a37",
   "metadata": {},
   "outputs": [
    {
     "name": "stdout",
     "output_type": "stream",
     "text": [
      "0.0\n",
      "3.0\n"
     ]
    }
   ],
   "source": [
    "import numpy as np\n",
    "\n",
    "f = lambda x : (x**2 + 2 * x) * np.log(x)\n",
    "df = lambda x : 2 * (x + 1) * np.log(x) + (x + 2)\n",
    "\n",
    "print(f(1))\n",
    "print(df(1))"
   ]
  },
  {
   "cell_type": "markdown",
   "id": "52408d2f-f73e-46ad-b8e6-0fb550cddb12",
   "metadata": {},
   "source": [
    "### 수치 미분"
   ]
  },
  {
   "cell_type": "code",
   "execution_count": 15,
   "id": "f6c3fcf0-2ee4-4dc5-9a52-48febd9c6cb3",
   "metadata": {},
   "outputs": [],
   "source": [
    "def numer_deriv(f, x, h=0.001, method=\"center\"):\n",
    "    '''\n",
    "    {f(x+h) - f(x)} / h 을 수치적으로 계산\n",
    "    \n",
    "    f: 미분할 함수로 주어진 위치에서 함숫값 계산을 위해 사용\n",
    "    x: 미분계수를 구할 변수의 위치로\n",
    "        일변수인 경우 itn 또는 float\n",
    "        다변수인 경우 넘파이 어레이 (d,) 벡터\n",
    "    h: 비율을 구할 작은 구간\n",
    "    '''\n",
    "    if type(x) in (float, int):\n",
    "        grad = [0.0]\n",
    "        x_ = [x]\n",
    "        var_type = 'scalar'\n",
    "    else:\n",
    "        grad = np.zeros(x.shape)\n",
    "        x_ = x.copy().astype('float32')\n",
    "        var_type = 'vector'\n",
    "    \n",
    "    for i, xi in enumerate(x_):\n",
    "        original_value = x_[i]\n",
    "        \n",
    "        if method == 'forward':\n",
    "            x_[i] = original_value + h\n",
    "        else:\n",
    "            x_[i] = original_value + (h/2)\n",
    "        \n",
    "        if var_type == 'scalar':\n",
    "            gradplus = f(x_[i])\n",
    "        else:\n",
    "            gradplus = f(x_)\n",
    "        \n",
    "        if method == 'forward':\n",
    "            x_[i] = original_value\n",
    "        else:\n",
    "            x_[i] = original_value - (h/2)\n",
    "        \n",
    "        if var_type == 'scalar':\n",
    "            gradminus = f(x_[i])\n",
    "        else:\n",
    "            gradminus = f(x_)\n",
    "        \n",
    "        grad[i] = (gradplus - gradminus) / h\n",
    "    \n",
    "    if var_type == 'scalar':\n",
    "        return grad[0]\n",
    "    else:\n",
    "        return grad"
   ]
  },
  {
   "cell_type": "code",
   "execution_count": 12,
   "id": "d923ac4d-de32-4ec5-b12f-e00f8b0c2dd4",
   "metadata": {},
   "outputs": [
    {
     "data": {
      "text/plain": [
       "2.999999999999666"
      ]
     },
     "execution_count": 12,
     "metadata": {},
     "output_type": "execute_result"
    }
   ],
   "source": [
    "numer_deriv(f, 1)"
   ]
  },
  {
   "cell_type": "code",
   "execution_count": 16,
   "id": "a54f52d6-4383-4264-b717-e8cf71ed1448",
   "metadata": {},
   "outputs": [
    {
     "name": "stdout",
     "output_type": "stream",
     "text": [
      "4.257383635135726\n",
      "2.9997299032915508\n"
     ]
    }
   ],
   "source": [
    "print(numer_deriv(f, 1, h=0.5, method=\"forward\"))\n",
    "\n",
    "print(numer_deriv(f, 1, h=0.5, method=\"center\"))"
   ]
  },
  {
   "cell_type": "code",
   "execution_count": 19,
   "id": "efc396c4-8244-49ec-bc4f-2e18d5c14171",
   "metadata": {},
   "outputs": [
    {
     "data": {
      "text/plain": [
       "array([2.77255299, 1.49889143])"
      ]
     },
     "execution_count": 19,
     "metadata": {},
     "output_type": "execute_result"
    }
   ],
   "source": [
    "f_xy = lambda x : (x[0]**2 + 2 * x[0]) * np.log(x[1])\n",
    "numer_deriv(f_xy, np.array([1, 2]))"
   ]
  },
  {
   "cell_type": "code",
   "execution_count": 23,
   "id": "d08a1b47-1c6a-42b1-8977-911b1f77b2aa",
   "metadata": {},
   "outputs": [
    {
     "name": "stdout",
     "output_type": "stream",
     "text": [
      "(2*x + 2)*log(y)\n",
      "(x**2 + 2*x)/y\n",
      "2.7726\n",
      "1.5000\n"
     ]
    }
   ],
   "source": [
    "# 심파이로 직접 편미분\n",
    "\n",
    "import sympy\n",
    "\n",
    "x = sympy.Symbol('x')\n",
    "y = sympy.Symbol('y')\n",
    "f_xy_sympy = (x**2 + 2 * x) * sympy.log(y)\n",
    "df_xy_x = sympy.diff(f_xy_sympy, x)\n",
    "df_xy_y = sympy.diff(f_xy_sympy, y)\n",
    "\n",
    "print(df_xy_x)\n",
    "print(df_xy_y)\n",
    "\n",
    "print(\"{:.4f}\".format(df_xy_x.evalf(subs={x: 1.0, y: 2.0})))\n",
    "print(\"{:.4f}\".format(df_xy_y.evalf(subs={x: 1.0, y: 2.0})))"
   ]
  },
  {
   "cell_type": "markdown",
   "id": "fe975b52-3cdd-416c-87dd-67b905569264",
   "metadata": {},
   "source": [
    "### 자동 미분"
   ]
  },
  {
   "cell_type": "code",
   "execution_count": 27,
   "id": "b5bdbb46-8ed9-4214-948b-efc80a04078d",
   "metadata": {},
   "outputs": [
    {
     "name": "stdout",
     "output_type": "stream",
     "text": [
      "[[0.5488135  0.71518937 0.60276338]\n",
      " [0.54488318 0.4236548  0.64589411]] float64\n",
      "tensor([[0.5488, 0.7152, 0.6028],\n",
      "        [0.5449, 0.4237, 0.6459]], dtype=torch.float64) torch.float64 False\n",
      "tensor([[0.5488, 0.7152, 0.6028],\n",
      "        [0.5449, 0.4237, 0.6459]], dtype=torch.float64) torch.float64 False\n",
      "tensor([[0.5488, 0.7152, 0.6028],\n",
      "        [0.5449, 0.4237, 0.6459]]) torch.float32 False\n",
      "tensor([[0.5488, 0.7152, 0.6028],\n",
      "        [0.5449, 0.4237, 0.6459]], dtype=torch.float64) torch.float64 False\n",
      "===== 요소 변경 =====\n",
      "[[100.           0.71518937   0.60276338]\n",
      " [  0.54488318   0.4236548    0.64589411]] float64\n",
      "tensor([[0.5488, 0.7152, 0.6028],\n",
      "        [0.5449, 0.4237, 0.6459]], dtype=torch.float64) torch.float64 False\n",
      "tensor([[100.0000,   0.7152,   0.6028],\n",
      "        [  0.5449,   0.4237,   0.6459]], dtype=torch.float64) torch.float64 False\n",
      "tensor([[0.5488, 0.7152, 0.6028],\n",
      "        [0.5449, 0.4237, 0.6459]]) torch.float32 False\n",
      "tensor([[100.0000,   0.7152,   0.6028],\n",
      "        [  0.5449,   0.4237,   0.6459]], dtype=torch.float64) torch.float64 False\n"
     ]
    }
   ],
   "source": [
    "import numpy as np\n",
    "import torch\n",
    "\n",
    "np.random.seed(0)\n",
    "\n",
    "x = np.random.rand(6).reshape(2, 3)\n",
    "\n",
    "x_tensor = torch.tensor(x)\n",
    "x_from_numpy = torch.from_numpy(x)\n",
    "x_Tensor = torch.Tensor(x)\n",
    "x_as_tensor = torch.as_tensor(x)\n",
    "\n",
    "print(x, x.dtype)\n",
    "print(x_tensor, x_tensor.dtype, x_tensor.requires_grad)\n",
    "print(x_from_numpy, x_from_numpy.dtype, x_from_numpy.requires_grad)\n",
    "print(x_Tensor, x_Tensor.dtype, x_Tensor.requires_grad)\n",
    "print(x_as_tensor, x_as_tensor.dtype, x_as_tensor.requires_grad)\n",
    "\n",
    "# 원 데이터에서 요소 하나 변경\n",
    "print(\"===== 요소 변경 =====\")\n",
    "x[0, 0] = 100\n",
    "\n",
    "print(x, x.dtype)\n",
    "print(x_tensor, x_tensor.dtype, x_tensor.requires_grad)\n",
    "print(x_from_numpy, x_from_numpy.dtype, x_from_numpy.requires_grad)\n",
    "print(x_Tensor, x_Tensor.dtype, x_Tensor.requires_grad)\n",
    "print(x_as_tensor, x_as_tensor.dtype, x_as_tensor.requires_grad)"
   ]
  },
  {
   "cell_type": "code",
   "execution_count": 29,
   "id": "0fcaa029-30f0-4805-b051-f0da86d29af7",
   "metadata": {},
   "outputs": [
    {
     "name": "stdout",
     "output_type": "stream",
     "text": [
      "tensor([[100.0000,   0.7152,   0.6028],\n",
      "        [  0.5449,   0.4237,   0.6459]], dtype=torch.float64,\n",
      "       requires_grad=True) torch.float64 True\n"
     ]
    }
   ],
   "source": [
    "# 자동 미분 설정 - requires_grad is True\n",
    "\n",
    "x_tensor_grad = torch.tensor(x, requires_grad=True)\n",
    "print(x_tensor_grad, x_tensor_grad.dtype, x_tensor_grad.requires_grad)"
   ]
  },
  {
   "cell_type": "code",
   "execution_count": 32,
   "id": "2d9c1d81-c85f-446f-b4f7-b4957c286010",
   "metadata": {},
   "outputs": [
    {
     "name": "stdout",
     "output_type": "stream",
     "text": [
      "tensor([1.], requires_grad=True)\n",
      "tensor([0.], grad_fn=<MulBackward0>)\n",
      "None\n",
      "tensor([3.])\n"
     ]
    }
   ],
   "source": [
    "# torch.autograd.backward\n",
    "\n",
    "x = torch.tensor([1.0], requires_grad=True)\n",
    "f = (x**2 + 2 * x) * torch.log(x)\n",
    "\n",
    "print(x)\n",
    "print(f)\n",
    "print(x.grad) # 연산 수행을 안 해서 None\n",
    "\n",
    "torch.autograd.backward(f, retain_graph=True)\n",
    "print(x.grad)"
   ]
  },
  {
   "cell_type": "code",
   "execution_count": 35,
   "id": "8a28701e-11e9-4754-825d-3b99efdf8a60",
   "metadata": {},
   "outputs": [
    {
     "name": "stdout",
     "output_type": "stream",
     "text": [
      "(tensor([3.]),)\n",
      "(tensor([3.]), tensor([3.]))\n"
     ]
    }
   ],
   "source": [
    "# torch.autograd.grad\n",
    "\n",
    "df = torch.autograd.grad(f, x, retain_graph=True)\n",
    "print(df)\n",
    "\n",
    "df = torch.autograd.grad(f, (x, x), retain_graph=True)\n",
    "print(df)"
   ]
  },
  {
   "cell_type": "code",
   "execution_count": 36,
   "id": "d71ae81d-162d-4f15-a8bb-11a8023ce409",
   "metadata": {},
   "outputs": [
    {
     "name": "stdout",
     "output_type": "stream",
     "text": [
      "tensor([2.7726])\n",
      "tensor([1.5000])\n",
      "(tensor([2.7726]), tensor([1.5000]))\n"
     ]
    }
   ],
   "source": [
    "x = torch.tensor([1.0], requires_grad=True)\n",
    "y = torch.tensor([2.0], requires_grad=True)\n",
    "f_xy = (x**2 + 2 * x) * torch.log(y)\n",
    "\n",
    "torch.autograd.backward(f_xy, retain_graph=True)\n",
    "print(x.grad)\n",
    "\n",
    "print(y.grad)\n",
    "\n",
    "df = torch.autograd.grad(f_xy, (x, y), retain_graph=True)\n",
    "print(df)"
   ]
  },
  {
   "cell_type": "markdown",
   "id": "4aef2b50-3946-4029-be52-cf854bcfd7c6",
   "metadata": {},
   "source": [
    "### 자동 미분 구현"
   ]
  },
  {
   "cell_type": "code",
   "execution_count": 4,
   "id": "bb1ed643-b37d-4028-aa93-2c39e3342c3a",
   "metadata": {},
   "outputs": [
    {
     "name": "stdout",
     "output_type": "stream",
     "text": [
      "dx=3, dy=2\n"
     ]
    }
   ],
   "source": [
    "def times(x, y):\n",
    "    return x * y, (x, y)\n",
    "\n",
    "def times_deriv(cache, dout=1):\n",
    "    return cache[1] * dout, cache[0] * dout\n",
    "\n",
    "TIMES = {'f': times, 'df': times_deriv}\n",
    "\n",
    "v, cache = TIMES['f'](2, 3)\n",
    "dx, dy = TIMES['df'](cache)\n",
    "\n",
    "print(\"dx={}, dy={}\".format(dx, dy))"
   ]
  },
  {
   "cell_type": "code",
   "execution_count": 5,
   "id": "443a7832-7f7a-4b36-8586-4cb66d696749",
   "metadata": {},
   "outputs": [],
   "source": [
    "#### 덧셈과 로그 사용"
   ]
  },
  {
   "cell_type": "code",
   "execution_count": 6,
   "id": "9d8bc1ca-c384-46d8-9a84-536ae0ac2ebf",
   "metadata": {},
   "outputs": [],
   "source": [
    "import numpy as np\n",
    "\n",
    "def add(x, y):\n",
    "    return x+y, (x, y)\n",
    "\n",
    "def add_deriv(cache, dout=1):\n",
    "    return dout, dout\n",
    "\n",
    "ADD = {'f': add, 'df': add_deriv}\n",
    "\n",
    "def log(x):\n",
    "    return np.log(x), x\n",
    "\n",
    "def log_deriv(cache, dout=1):\n",
    "    return (1/cache) * dout\n",
    "\n",
    "LOG = {'f': log, 'df': log_deriv}"
   ]
  },
  {
   "cell_type": "code",
   "execution_count": 1,
   "id": "24d7f721-1bab-46a6-a210-99dcebdf822a",
   "metadata": {},
   "outputs": [
    {
     "ename": "NameError",
     "evalue": "name 'TIMES' is not defined",
     "output_type": "error",
     "traceback": [
      "\u001b[1;31m---------------------------------------------------------------------------\u001b[0m",
      "\u001b[1;31mNameError\u001b[0m                                 Traceback (most recent call last)",
      "\u001b[1;32m~\\AppData\\Local\\Temp/ipykernel_6032/2397183609.py\u001b[0m in \u001b[0;36m<module>\u001b[1;34m\u001b[0m\n\u001b[0;32m      3\u001b[0m \u001b[0mx\u001b[0m \u001b[1;33m=\u001b[0m \u001b[1;36m1.\u001b[0m\u001b[1;33m;\u001b[0m \u001b[0my\u001b[0m \u001b[1;33m=\u001b[0m \u001b[1;36m2.\u001b[0m\u001b[1;33m\u001b[0m\u001b[1;33m\u001b[0m\u001b[0m\n\u001b[0;32m      4\u001b[0m \u001b[1;33m\u001b[0m\u001b[0m\n\u001b[1;32m----> 5\u001b[1;33m \u001b[0ma\u001b[0m\u001b[1;33m,\u001b[0m \u001b[0mcache_a\u001b[0m \u001b[1;33m=\u001b[0m \u001b[0mTIMES\u001b[0m\u001b[1;33m[\u001b[0m\u001b[1;34m'f'\u001b[0m\u001b[1;33m]\u001b[0m\u001b[1;33m(\u001b[0m\u001b[0mx\u001b[0m\u001b[1;33m,\u001b[0m \u001b[0mx\u001b[0m\u001b[1;33m)\u001b[0m\u001b[1;33m\u001b[0m\u001b[1;33m\u001b[0m\u001b[0m\n\u001b[0m\u001b[0;32m      6\u001b[0m \u001b[0mb\u001b[0m\u001b[1;33m,\u001b[0m \u001b[0mcache_b\u001b[0m \u001b[1;33m=\u001b[0m \u001b[0mTIMES\u001b[0m\u001b[1;33m[\u001b[0m\u001b[1;34m'f'\u001b[0m\u001b[1;33m]\u001b[0m\u001b[1;33m(\u001b[0m\u001b[1;36m2\u001b[0m\u001b[1;33m,\u001b[0m \u001b[0mx\u001b[0m\u001b[1;33m)\u001b[0m\u001b[1;33m\u001b[0m\u001b[1;33m\u001b[0m\u001b[0m\n\u001b[0;32m      7\u001b[0m \u001b[0mc\u001b[0m\u001b[1;33m,\u001b[0m \u001b[0mcache_c\u001b[0m \u001b[1;33m=\u001b[0m \u001b[0mADD\u001b[0m\u001b[1;33m[\u001b[0m\u001b[1;34m'f'\u001b[0m\u001b[1;33m]\u001b[0m\u001b[1;33m(\u001b[0m\u001b[0ma\u001b[0m\u001b[1;33m,\u001b[0m \u001b[0mb\u001b[0m\u001b[1;33m)\u001b[0m\u001b[1;33m\u001b[0m\u001b[1;33m\u001b[0m\u001b[0m\n",
      "\u001b[1;31mNameError\u001b[0m: name 'TIMES' is not defined"
     ]
    }
   ],
   "source": [
    "import numpy as np\n",
    "\n",
    "x = 1.; y = 2.\n",
    "\n",
    "a, cache_a = TIMES['f'](x, x)\n",
    "b, cache_b = TIMES['f'](2, x)\n",
    "c, cache_c = ADD['f'](a, b)\n",
    "d, cache_d = LOG['f'](y)\n",
    "z, cache_z = TIMES['f'](c, d)\n",
    "\n",
    "dx = dy = 0.\n",
    "\n",
    "dc, dd = TIMES['df'](cache_z, 1)\n",
    "dy = LOG['df'](cache_d, dd)\n",
    "da, db = ADD['df'](cache_c, dc)\n",
    "_, dx_ = TIMES['df'](cache_b, db); dx += dx_;\n",
    "dx_, dx__ = TIMES['df'](cache_a, da); dx += dx_ + dx__\n",
    "\n",
    "print(\"backward pass dx = {:.6f}, dy = {:.6f}\".format(dx, dy))"
   ]
  },
  {
   "cell_type": "code",
   "execution_count": 1,
   "id": "e4594493-ffd8-472f-bb28-e3aecbb7414c",
   "metadata": {},
   "outputs": [
    {
     "name": "stdout",
     "output_type": "stream",
     "text": [
      "(tensor([5.5452]), tensor([3.]))\n"
     ]
    }
   ],
   "source": [
    "import torch\n",
    "\n",
    "x = torch.tensor([1.], requires_grad=True)\n",
    "y = torch.tensor([2.], requires_grad=True)\n",
    "z = (x**2 + 2 * x) * torch.log(y)\n",
    "dz = torch.autograd.grad(z, (x, y), grad_outputs=torch.tensor([2.]), retain_graph=True)\n",
    "print(dz)"
   ]
  }
 ],
 "metadata": {
  "kernelspec": {
   "display_name": "Python 3 (ipykernel)",
   "language": "python",
   "name": "python3"
  },
  "language_info": {
   "codemirror_mode": {
    "name": "ipython",
    "version": 3
   },
   "file_extension": ".py",
   "mimetype": "text/x-python",
   "name": "python",
   "nbconvert_exporter": "python",
   "pygments_lexer": "ipython3",
   "version": "3.9.0"
  }
 },
 "nbformat": 4,
 "nbformat_minor": 5
}
