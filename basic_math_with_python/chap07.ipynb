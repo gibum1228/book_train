{
 "cells": [
  {
   "cell_type": "markdown",
   "id": "409c2f11-a07e-409c-9250-0a64aac5b6b6",
   "metadata": {},
   "source": [
    "### 행렬에 대한 연산: 덧셈, 스칼라 곱셈, 곱셈"
   ]
  },
  {
   "cell_type": "code",
   "execution_count": 2,
   "id": "d636d1d3-dc4a-4656-a9a4-31c5faa18b2b",
   "metadata": {},
   "outputs": [
    {
     "name": "stdout",
     "output_type": "stream",
     "text": [
      "[[11 22]\n",
      " [33 44]]\n",
      "[[ 30  60]\n",
      " [ 90 120]]\n"
     ]
    }
   ],
   "source": [
    "import numpy as np\n",
    "\n",
    "A = np.array([[1, 2], [3, 4]])\n",
    "B = np.array([[10, 20], [30, 40]])\n",
    "\n",
    "print(A+B)\n",
    "print(3*B)"
   ]
  },
  {
   "cell_type": "code",
   "execution_count": 3,
   "id": "229cd27f-0c3a-4f51-9957-9167f57b3f42",
   "metadata": {},
   "outputs": [
    {
     "data": {
      "text/plain": [
       "array([[ 7,  8],\n",
       "       [19, 20]])"
      ]
     },
     "execution_count": 3,
     "metadata": {},
     "output_type": "execute_result"
    }
   ],
   "source": [
    "import numpy as np\n",
    "\n",
    "A = np.array([[1, 2, 3], [4, 5, 6]])\n",
    "B = np.array([[2, 1], [1, 2], [1, 1]])\n",
    "\n",
    "np.dot(A, B)"
   ]
  },
  {
   "cell_type": "code",
   "execution_count": 4,
   "id": "194fe50b-97ea-45de-843c-8251964290b1",
   "metadata": {},
   "outputs": [
    {
     "data": {
      "text/plain": [
       "matrix([[ 7,  8],\n",
       "        [19, 20]])"
      ]
     },
     "execution_count": 4,
     "metadata": {},
     "output_type": "execute_result"
    }
   ],
   "source": [
    "import numpy as np\n",
    "\n",
    "A = np.matrix([[1, 2, 3], [4, 5, 6]])\n",
    "B = np.matrix([[2, 1], [1, 2], [1, 1]])\n",
    "\n",
    "A*B"
   ]
  },
  {
   "cell_type": "markdown",
   "id": "6285e47b-c727-4817-9c4c-c0e5d39048e7",
   "metadata": {},
   "source": [
    "### 전치"
   ]
  },
  {
   "cell_type": "code",
   "execution_count": 8,
   "id": "3b6ce1b2-eaf7-4a79-b87c-d1915e5541fe",
   "metadata": {},
   "outputs": [
    {
     "name": "stdout",
     "output_type": "stream",
     "text": [
      "[[1 2 3]\n",
      " [4 5 6]]\n"
     ]
    },
    {
     "data": {
      "text/plain": [
       "array([[1, 4],\n",
       "       [2, 5],\n",
       "       [3, 6]])"
      ]
     },
     "execution_count": 8,
     "metadata": {},
     "output_type": "execute_result"
    }
   ],
   "source": [
    "import numpy as np\n",
    "\n",
    "A = np.arange(1, 7).reshape(2, 3)\n",
    "print(A)\n",
    "\n",
    "A.transpose(1, 0)\n",
    "\n",
    "A.T"
   ]
  },
  {
   "cell_type": "markdown",
   "id": "87a4921a-46aa-4aea-b117-41a5d4f6a6f3",
   "metadata": {},
   "source": [
    "# 특별한 행렬"
   ]
  },
  {
   "cell_type": "markdown",
   "id": "c29167c8-0283-4679-a9bb-f9f3c555f253",
   "metadata": {},
   "source": [
    "### 단위 행렬"
   ]
  },
  {
   "cell_type": "code",
   "execution_count": 10,
   "id": "a8559177-a758-4906-b281-5e6a5924be29",
   "metadata": {},
   "outputs": [
    {
     "name": "stdout",
     "output_type": "stream",
     "text": [
      "[[2. 4.]\n",
      " [4. 2.]]\n",
      "[[2. 4.]\n",
      " [4. 2.]]\n"
     ]
    }
   ],
   "source": [
    "import numpy as np\n",
    "\n",
    "A = np.matrix([[2, 4], [4, 2]])\n",
    "I = np.matrix(np.eye(2))\n",
    "\n",
    "print(A*I)\n",
    "print(I*A)"
   ]
  },
  {
   "cell_type": "markdown",
   "id": "6dea5641-fea1-4408-8074-9161228fc8c0",
   "metadata": {},
   "source": [
    "### 역행렬"
   ]
  },
  {
   "cell_type": "code",
   "execution_count": 14,
   "id": "304ab963-b96b-4239-87a9-a94618d4f5cc",
   "metadata": {},
   "outputs": [
    {
     "name": "stdout",
     "output_type": "stream",
     "text": [
      "[[ 3.]\n",
      " [-3.]]\n"
     ]
    }
   ],
   "source": [
    "import numpy as np\n",
    "\n",
    "A = np.matrix([[2, 1], [-6, 3]])\n",
    "b = np.matrix([[3], [-27]])\n",
    "\n",
    "print(A.I * b)"
   ]
  },
  {
   "cell_type": "markdown",
   "id": "ed771566-7101-4c14-8808-8d96a5463a3e",
   "metadata": {},
   "source": [
    "### 대각행렬"
   ]
  },
  {
   "cell_type": "code",
   "execution_count": 15,
   "id": "950c3122-1c98-41b7-a892-4caa17612766",
   "metadata": {},
   "outputs": [
    {
     "name": "stdout",
     "output_type": "stream",
     "text": [
      "[[0.5  0.   0.  ]\n",
      " [0.   1.   0.  ]\n",
      " [0.   0.   0.25]]\n",
      "[[1. 0. 0.]\n",
      " [0. 1. 0.]\n",
      " [0. 0. 1.]]\n"
     ]
    }
   ],
   "source": [
    "import numpy as np\n",
    "\n",
    "D = np.matrix(np.eye(3) * np.array([2, 1, 4]))\n",
    "\n",
    "print(D.I)\n",
    "print(D.I * D)"
   ]
  },
  {
   "cell_type": "markdown",
   "id": "dc6c001a-461b-4967-89da-314b068df2fd",
   "metadata": {},
   "source": [
    "### 대칭 행렬"
   ]
  },
  {
   "cell_type": "code",
   "execution_count": 17,
   "id": "9ea7c172-5977-4224-bf37-9977b2d652c6",
   "metadata": {},
   "outputs": [
    {
     "name": "stdout",
     "output_type": "stream",
     "text": [
      "[[ 6.00000000e+00 -1.31223519e-16]\n",
      " [-8.59474028e-18 -2.00000000e+00]]\n"
     ]
    }
   ],
   "source": [
    "import numpy as np\n",
    "\n",
    "A = np.matrix([[2, 4], [4, 2]])\n",
    "X = np.matrix([[0.7071, -0.7071], [0.7071, 0.7071]])\n",
    "D = X.I * A * X\n",
    "\n",
    "print(D)"
   ]
  },
  {
   "cell_type": "markdown",
   "id": "34c53ec3-b53a-43bd-a800-e90ec35b43ac",
   "metadata": {},
   "source": [
    "### 행렬을 이용한 데이터 표현"
   ]
  },
  {
   "cell_type": "code",
   "execution_count": 17,
   "id": "79458bd4-3b74-4204-8d3f-aa54e5b7cb12",
   "metadata": {},
   "outputs": [
    {
     "name": "stdout",
     "output_type": "stream",
     "text": [
      "(721, 820, 3)\n"
     ]
    },
    {
     "data": {
      "text/plain": [
       "<matplotlib.image.AxesImage at 0x24ffb102d30>"
      ]
     },
     "execution_count": 17,
     "metadata": {},
     "output_type": "execute_result"
    },
    {
     "data": {
      "image/png": "[encoded data removed]",
      "text/plain": [
       "<Figure size 432x288 with 1 Axes>"
      ]
     },
     "metadata": {
      "needs_background": "light"
     },
     "output_type": "display_data"
    }
   ],
   "source": [
    "# 이미지\n",
    "\n",
    "import numpy as np\n",
    "import matplotlib.pyplot as plt\n",
    "\n",
    "im = plt.imread('old_python.jpg')\n",
    "\n",
    "print(im.shape)\n",
    "\n",
    "plt.imshow(im)"
   ]
  },
  {
   "cell_type": "code",
   "execution_count": 19,
   "id": "9c7d5a7b-91e4-4ff5-b4da-9a51b1c74c47",
   "metadata": {},
   "outputs": [
    {
     "data": {
      "image/png": "[encoded data removed]",
      "text/plain": [
       "<Figure size 1080x504 with 3 Axes>"
      ]
     },
     "metadata": {
      "needs_background": "light"
     },
     "output_type": "display_data"
    }
   ],
   "source": [
    "R = im[:, :, 0]\n",
    "G = im[:, :, 1]\n",
    "B = im[:, :, 2]\n",
    "\n",
    "fig = plt.figure(figsize=(15, 7))\n",
    "ax1 = fig.add_subplot(1, 4, 1)\n",
    "ax2 = fig.add_subplot(1, 4, 2)\n",
    "ax3 = fig.add_subplot(1, 4, 3)\n",
    "\n",
    "ax1.imshow(R); ax1.set_title(\"Red\")\n",
    "ax2.imshow(G); ax2.set_title(\"Green\")\n",
    "ax3.imshow(B); ax3.set_title(\"Blue\")\n",
    "\n",
    "plt.show()"
   ]
  },
  {
   "cell_type": "code",
   "execution_count": 21,
   "id": "03f36827-7829-4323-929f-ced995979452",
   "metadata": {},
   "outputs": [
    {
     "name": "stdout",
     "output_type": "stream",
     "text": [
      "[['this', 'is', 'the', 'first', 'document'], ['this', 'is', 'the', 'second', 'document'], ['and', 'the', 'third', 'one'], ['is', 'this', 'the', 'first', 'document']]\n",
      "[[9, 4, 7, 3, 2], [9, 4, 7, 6, 2], [1, 7, 8, 5], [4, 9, 7, 3, 2]]\n"
     ]
    }
   ],
   "source": [
    "# 문서\n",
    "\n",
    "import numpy as np\n",
    "\n",
    "docs = [\n",
    "    'This is the first document',\n",
    "    'This is the second document',\n",
    "    'And the third one',\n",
    "    'Is this the first document'\n",
    "]\n",
    "\n",
    "V = ['<NULL>', 'and', 'document', 'first', 'is', 'one', 'second', 'the', 'third', 'this']\n",
    "\n",
    "pre_docs = list(map(lambda x : x.lower().split(), docs))\n",
    "print(pre_docs)\n",
    "\n",
    "D = [[V.index(w) for w in doc] for doc in pre_docs]\n",
    "print(D)"
   ]
  },
  {
   "cell_type": "code",
   "execution_count": 22,
   "id": "26f8ef32-01de-4458-9974-45cc406c8c2a",
   "metadata": {},
   "outputs": [
    {
     "name": "stdout",
     "output_type": "stream",
     "text": [
      "[['this', 'is', 'the', 'first', 'document'], ['this', 'is', 'the', 'second', 'document'], ['and', 'the', 'third', 'one', '<NULL>'], ['is', 'this', 'the', 'first', 'document']]\n"
     ]
    }
   ],
   "source": [
    "N = max([len(doc) for doc in pre_docs])\n",
    "pre_docs = [doc + ['<NULL>'] * (N - len(doc)) for doc in pre_docs]\n",
    "\n",
    "print(pre_docs)"
   ]
  },
  {
   "cell_type": "code",
   "execution_count": 23,
   "id": "3b33f855-a860-4d3f-a6ed-f927edf5828c",
   "metadata": {},
   "outputs": [
    {
     "name": "stdout",
     "output_type": "stream",
     "text": [
      "[[9 4 7 3 2]\n",
      " [9 4 7 6 2]\n",
      " [1 7 8 5 0]\n",
      " [4 9 7 3 2]]\n"
     ]
    }
   ],
   "source": [
    "D = [[V.index(w) for w in doc] for doc in pre_docs]\n",
    "D = np.array(D)\n",
    "print(D)"
   ]
  },
  {
   "cell_type": "markdown",
   "id": "01497944-c732-485e-a2ce-2b19e5d7ca25",
   "metadata": {},
   "source": [
    "### 넘파이"
   ]
  },
  {
   "cell_type": "code",
   "execution_count": 26,
   "id": "92784adf-59be-4c73-a6d8-5363c727abc0",
   "metadata": {},
   "outputs": [
    {
     "name": "stdout",
     "output_type": "stream",
     "text": [
      "[1 2 3 4]\n",
      "(4,)\n",
      "[[1 2 3 4]]\n",
      "(1, 4)\n",
      "[[1]\n",
      " [2]\n",
      " [3]\n",
      " [4]]\n",
      "(4, 1)\n",
      "\n",
      "===== B =====\n",
      "[[1 2]\n",
      " [3 4]]\n",
      "(2, 2)\n"
     ]
    }
   ],
   "source": [
    "# 넘파이 어레이\n",
    "\n",
    "import numpy as np\n",
    "\n",
    "A = np.array([1, 2, 3, 4])\n",
    "print(A)\n",
    "print(A.shape)\n",
    "print(A.reshape(1, 4))\n",
    "print(A.reshape(1, 4).shape)\n",
    "print(A.reshape(4, 1))\n",
    "print(A.reshape(4, 1).shape)\n",
    "\n",
    "print(\"\\n===== B =====\")\n",
    "B = np.array([[1, 2], [3, 4]])\n",
    "print(B)\n",
    "print(B.shape)\n"
   ]
  },
  {
   "cell_type": "code",
   "execution_count": 27,
   "id": "551c5daf-b6ad-458d-b26f-5103f9d94f43",
   "metadata": {},
   "outputs": [
    {
     "name": "stdout",
     "output_type": "stream",
     "text": [
      "[[6 1]\n",
      " [2 3]]\n",
      "[[4 1]\n",
      " [7 2]]\n",
      "[[10  2]\n",
      " [ 9  5]]\n",
      "[[ 2  0]\n",
      " [-5  1]]\n",
      "[[1.5        1.        ]\n",
      " [0.28571429 1.5       ]]\n"
     ]
    }
   ],
   "source": [
    "# 넘파이 어레이 연산\n",
    "\n",
    "import numpy as np\n",
    "\n",
    "np.random.seed(12)\n",
    "\n",
    "A = np.random.randint(0, 9, 4).reshape(2, 2)\n",
    "B = np.random.randint(0, 9, 4).reshape(2, 2) + 1\n",
    "\n",
    "print(A)\n",
    "print(B)\n",
    "print(A+B)\n",
    "print(A-B)\n",
    "print(A/B)"
   ]
  },
  {
   "cell_type": "code",
   "execution_count": 28,
   "id": "8ec3fb12-92af-409d-9afc-27f46e161c97",
   "metadata": {},
   "outputs": [
    {
     "name": "stdout",
     "output_type": "stream",
     "text": [
      "[[1 2 3]\n",
      " [4 5 6]]\n",
      "[[1 4]\n",
      " [2 5]\n",
      " [3 6]]\n"
     ]
    }
   ],
   "source": [
    "# 축\n",
    "\n",
    "import numpy as np\n",
    "\n",
    "A = np.arange(1, 7).reshape(2, 3)\n",
    "\n",
    "print(A)\n",
    "print(A.transpose(1, 0))"
   ]
  },
  {
   "cell_type": "code",
   "execution_count": 29,
   "id": "8dcd017d-54c5-4fb5-b552-0c71dc798246",
   "metadata": {},
   "outputs": [
    {
     "name": "stdout",
     "output_type": "stream",
     "text": [
      "[[[ 1  2  3]\n",
      "  [ 4  5  6]]\n",
      "\n",
      " [[ 7  8  9]\n",
      "  [10 11 12]]]\n",
      "[[[ 1  7]\n",
      "  [ 4 10]]\n",
      "\n",
      " [[ 2  8]\n",
      "  [ 5 11]]\n",
      "\n",
      " [[ 3  9]\n",
      "  [ 6 12]]]\n"
     ]
    }
   ],
   "source": [
    "# 전치\n",
    "\n",
    "import numpy as np\n",
    "\n",
    "A = np.arange(1, 13).reshape(2, 2, -1)\n",
    "\n",
    "print(A)\n",
    "print(A.T)"
   ]
  },
  {
   "cell_type": "code",
   "execution_count": 30,
   "id": "6b26ccd8-6385-4f6d-bf69-ba9800a63b4f",
   "metadata": {},
   "outputs": [
    {
     "name": "stdout",
     "output_type": "stream",
     "text": [
      "[[[ 1  2  3]\n",
      "  [ 7  8  9]]\n",
      "\n",
      " [[ 4  5  6]\n",
      "  [10 11 12]]]\n"
     ]
    }
   ],
   "source": [
    "# 전치\n",
    "\n",
    "import numpy as np\n",
    "\n",
    "A = np.arange(1, 13).reshape(2, 2, -1)\n",
    "\n",
    "print(A.transpose(1, 0, 2))"
   ]
  },
  {
   "cell_type": "code",
   "execution_count": 35,
   "id": "0c4c73cb-997a-41c6-91a7-31ca966caa64",
   "metadata": {},
   "outputs": [
    {
     "name": "stdout",
     "output_type": "stream",
     "text": [
      "[[ 0  1  2  3  4  5]\n",
      " [ 6  7  8  9 10 11]\n",
      " [12 13 14 15 16 17]\n",
      " [18 19 20 21 22 23]\n",
      " [24 25 26 27 28 29]]\n",
      "2\n",
      "15\n",
      "[[ 0  2  4]\n",
      " [ 6  8 10]\n",
      " [12 14 16]\n",
      " [18 20 22]\n",
      " [24 26 28]]\n",
      "\n",
      "[ 1  8 19 24]\n",
      "[ 1  8 15 19 24]\n",
      "[[False False False False False False]\n",
      " [False False False False False False]\n",
      " [False False False False False False]\n",
      " [False False False  True  True  True]\n",
      " [ True  True  True  True  True  True]]\n",
      "[21 22 23 24 25 26 27 28 29]\n"
     ]
    }
   ],
   "source": [
    "# 인덱싱\n",
    "\n",
    "import numpy as np\n",
    "\n",
    "A = np.arange(30).reshape(5, 6)\n",
    "\n",
    "print(A)\n",
    "print(A[0, 2])\n",
    "print(A[2, 3])\n",
    "print(A[:, 0::2])\n",
    "print()\n",
    "print(np.array([A[0, 1], A[1, 2], A[3, 1], A[4, 0]]))\n",
    "print(A[[0,1,2,3,4], [1,2,3,1,0]])\n",
    "print(A > 20)\n",
    "print(A[A > 20])"
   ]
  },
  {
   "cell_type": "code",
   "execution_count": 38,
   "id": "20130b16-1ff6-466b-950b-d903e02f0d2f",
   "metadata": {},
   "outputs": [
    {
     "data": {
      "text/plain": [
       "array([2, 4, 6])"
      ]
     },
     "execution_count": 38,
     "metadata": {},
     "output_type": "execute_result"
    }
   ],
   "source": [
    "# 브로드캐스팅\n",
    "\n",
    "import numpy as np\n",
    "\n",
    "A = np.array([1, 2, 3])\n",
    "A * 2"
   ]
  },
  {
   "cell_type": "code",
   "execution_count": 41,
   "id": "20781474-00ca-4c14-9917-403cdb5bea8b",
   "metadata": {},
   "outputs": [
    {
     "name": "stdout",
     "output_type": "stream",
     "text": [
      "[[8 8 6]\n",
      " [2 8 7]\n",
      " [2 1 5]\n",
      " [4 4 5]]\n",
      "[7 3 6]\n",
      "[[56 24 36]\n",
      " [14 24 42]\n",
      " [14  3 30]\n",
      " [28 12 30]]\n",
      "\n",
      "[8 9 3 8]\n",
      "[[64 64 48]\n",
      " [18 72 63]\n",
      " [ 6  3 15]\n",
      " [32 32 40]]\n",
      "\n",
      "[[9]\n",
      " [0]\n",
      " [1]\n",
      " [7]]\n",
      "[1 7 2]\n",
      "[[ 9 63 18]\n",
      " [ 0  0  0]\n",
      " [ 1  7  2]\n",
      " [ 7 49 14]]\n"
     ]
    }
   ],
   "source": [
    "import numpy as np\n",
    "\n",
    "np.random.seed(2)\n",
    "\n",
    "m, n = 4, 3\n",
    "A = np.random.randint(0, 10, m*n).reshape(m, n)\n",
    "b = np.random.randint(0, 10, n)\n",
    "\n",
    "print(A)\n",
    "print(b)\n",
    "print(A * b)\n",
    "print()\n",
    "\n",
    "np.random.seed(3)\n",
    "\n",
    "# 앞 코드에서 만든 A를 그대로 사용\n",
    "# 앞 코드에서 n=3\n",
    "b = np.random.randint(0, 10, n+1)\n",
    "print(b)\n",
    "\n",
    "C = A * b[:, np.newaxis]\n",
    "print(C)\n",
    "print()\n",
    "\n",
    "np.random.seed(11)\n",
    "\n",
    "m, n = 4, 3\n",
    "a = np.random.randint(0, 10, m).reshape(-1, 1)\n",
    "b = np.random.randint(0, 10, n)\n",
    "\n",
    "print(a)\n",
    "print(b)\n",
    "print(a*b)"
   ]
  },
  {
   "cell_type": "markdown",
   "id": "bcb994e8-5b50-426d-a8f3-ce11c1915047",
   "metadata": {},
   "source": [
    "### 행렬 곱셉의 해석"
   ]
  },
  {
   "cell_type": "code",
   "execution_count": 42,
   "id": "e204d8c3-ed62-46e7-8433-52145f953699",
   "metadata": {},
   "outputs": [
    {
     "name": "stdout",
     "output_type": "stream",
     "text": [
      "[[24]\n",
      " [70]\n",
      " [96]\n",
      " [34]]\n"
     ]
    },
    {
     "data": {
      "text/plain": [
       "array([[24],\n",
       "       [70],\n",
       "       [96],\n",
       "       [34]])"
      ]
     },
     "execution_count": 42,
     "metadata": {},
     "output_type": "execute_result"
    }
   ],
   "source": [
    "# 행렬 곱셈 해석 1: 열 결합\n",
    "\n",
    "import numpy as np\n",
    "\n",
    "np.random.seed(10)\n",
    "\n",
    "A = np.random.randint(0, 9, 12).reshape(4, 3)\n",
    "b = np.random.randint(0, 9, 3).reshape(3, 1)\n",
    "\n",
    "C = np.dot(A, b)\n",
    "C_ = np.array([A[:, [j]] * b[j] for j in range(A.shape[1])])\n",
    "\n",
    "print(C)\n",
    "\n",
    "C_.sum(axis=0)"
   ]
  },
  {
   "cell_type": "markdown",
   "id": "bb9088dd-ccb7-4db6-9722-31c595cf0ca0",
   "metadata": {},
   "source": [
    "### 행렬을 이용한 코딩"
   ]
  },
  {
   "cell_type": "code",
   "execution_count": 43,
   "id": "0ca6951b-ffcf-4fae-b105-0c2842921d12",
   "metadata": {},
   "outputs": [],
   "source": [
    "# 벡터화 실습1 (기본 곱셈)\n",
    "import numpy as np\n",
    "\n",
    "A = np.random.randint(0, 10, 12).reshape(4, 3)\n",
    "x = np.random.randint(0, 10, 3)\n",
    "\n",
    "m = x.shape[0]\n",
    "y = []\n",
    "temp = 0\n",
    "\n",
    "for i in range(A.shape[0]):\n",
    "    for j in range(m):\n",
    "        temp += A[i, j] * x[j]\n",
    "    y.append(temp)\n",
    "    temp = 0"
   ]
  },
  {
   "cell_type": "code",
   "execution_count": 44,
   "id": "725baedb-fffc-4661-9e41-a853e0aa9ab8",
   "metadata": {},
   "outputs": [],
   "source": [
    "# 벡터화 실습2 (전치 곱셈)\n",
    "import numpy as np\n",
    "\n",
    "A = np.random.randint(0, 10, 12).reshape(3, 4)\n",
    "x = np.random.randint(0, 10, 3)\n",
    "\n",
    "m = x.shape[0]\n",
    "y = []\n",
    "temp = 0\n",
    "\n",
    "for i in range(A.shape[1]):\n",
    "    for j in range(m):\n",
    "        temp += A[j, i] * x[j]\n",
    "    y.append(temp)\n",
    "    temp = 0"
   ]
  },
  {
   "cell_type": "code",
   "execution_count": null,
   "id": "43811129-0dcf-484c-9744-f6f0582d750c",
   "metadata": {},
   "outputs": [],
   "source": [
    "# 벡터화 실습3 (선형회귀에서 경사도벡터 식)\n",
    "import numpy as np\n",
    "\n",
    "np.random.seed(10)\n",
    "\n",
    "n, m = 5, 2\n",
    "\n",
    "X = np.random.rand(n, m)\n",
    "w = np.random.rand(m)\n",
    "y = np.random.rand(n)\n",
    "\n",
    "print(X)\n",
    "print(w)\n",
    "print(y)\n",
    "\n",
    "g = np.zeros_like(w)\n",
    "\n",
    "for j in range(m):\n",
    "    for i in range(n):\n",
    "        g[j] += (np.dot(X[]))"
   ]
  }
 ],
 "metadata": {
  "kernelspec": {
   "display_name": "Python 3 (ipykernel)",
   "language": "python",
   "name": "python3"
  },
  "language_info": {
   "codemirror_mode": {
    "name": "ipython",
    "version": 3
   },
   "file_extension": ".py",
   "mimetype": "text/x-python",
   "name": "python",
   "nbconvert_exporter": "python",
   "pygments_lexer": "ipython3",
   "version": "3.9.0"
  }
 },
 "nbformat": 4,
 "nbformat_minor": 5
}
