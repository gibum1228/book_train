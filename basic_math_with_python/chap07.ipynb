{
 "cells": [
  {
   "cell_type": "markdown",
   "id": "409c2f11-a07e-409c-9250-0a64aac5b6b6",
   "metadata": {},
   "source": [
    "### 행렬에 대한 연산: 덧셈, 스칼라 곱셈, 곱셈"
   ]
  },
  {
   "cell_type": "code",
   "execution_count": 2,
   "id": "d636d1d3-dc4a-4656-a9a4-31c5faa18b2b",
   "metadata": {},
   "outputs": [
    {
     "name": "stdout",
     "output_type": "stream",
     "text": [
      "[[11 22]\n",
      " [33 44]]\n",
      "[[ 30  60]\n",
      " [ 90 120]]\n"
     ]
    }
   ],
   "source": [
    "import numpy as np\n",
    "\n",
    "A = np.array([[1, 2], [3, 4]])\n",
    "B = np.array([[10, 20], [30, 40]])\n",
    "\n",
    "print(A+B)\n",
    "print(3*B)"
   ]
  },
  {
   "cell_type": "code",
   "execution_count": 3,
   "id": "229cd27f-0c3a-4f51-9957-9167f57b3f42",
   "metadata": {},
   "outputs": [
    {
     "data": {
      "text/plain": [
       "array([[ 7,  8],\n",
       "       [19, 20]])"
      ]
     },
     "execution_count": 3,
     "metadata": {},
     "output_type": "execute_result"
    }
   ],
   "source": [
    "import numpy as np\n",
    "\n",
    "A = np.array([[1, 2, 3], [4, 5, 6]])\n",
    "B = np.array([[2, 1], [1, 2], [1, 1]])\n",
    "\n",
    "np.dot(A, B)"
   ]
  },
  {
   "cell_type": "code",
   "execution_count": 4,
   "id": "194fe50b-97ea-45de-843c-8251964290b1",
   "metadata": {},
   "outputs": [
    {
     "data": {
      "text/plain": [
       "matrix([[ 7,  8],\n",
       "        [19, 20]])"
      ]
     },
     "execution_count": 4,
     "metadata": {},
     "output_type": "execute_result"
    }
   ],
   "source": [
    "import numpy as np\n",
    "\n",
    "A = np.matrix([[1, 2, 3], [4, 5, 6]])\n",
    "B = np.matrix([[2, 1], [1, 2], [1, 1]])\n",
    "\n",
    "A*B"
   ]
  },
  {
   "cell_type": "markdown",
   "id": "6285e47b-c727-4817-9c4c-c0e5d39048e7",
   "metadata": {},
   "source": [
    "### 전치"
   ]
  },
  {
   "cell_type": "code",
   "execution_count": 8,
   "id": "3b6ce1b2-eaf7-4a79-b87c-d1915e5541fe",
   "metadata": {},
   "outputs": [
    {
     "name": "stdout",
     "output_type": "stream",
     "text": [
      "[[1 2 3]\n",
      " [4 5 6]]\n"
     ]
    },
    {
     "data": {
      "text/plain": [
       "array([[1, 4],\n",
       "       [2, 5],\n",
       "       [3, 6]])"
      ]
     },
     "execution_count": 8,
     "metadata": {},
     "output_type": "execute_result"
    }
   ],
   "source": [
    "import numpy as np\n",
    "\n",
    "A = np.arange(1, 7).reshape(2, 3)\n",
    "print(A)\n",
    "\n",
    "A.transpose(1, 0)\n",
    "\n",
    "A.T"
   ]
  },
  {
   "cell_type": "markdown",
   "id": "87a4921a-46aa-4aea-b117-41a5d4f6a6f3",
   "metadata": {},
   "source": [
    "# 특별한 행렬"
   ]
  },
  {
   "cell_type": "markdown",
   "id": "c29167c8-0283-4679-a9bb-f9f3c555f253",
   "metadata": {},
   "source": [
    "### 단위 행렬"
   ]
  },
  {
   "cell_type": "code",
   "execution_count": 10,
   "id": "a8559177-a758-4906-b281-5e6a5924be29",
   "metadata": {},
   "outputs": [
    {
     "name": "stdout",
     "output_type": "stream",
     "text": [
      "[[2. 4.]\n",
      " [4. 2.]]\n",
      "[[2. 4.]\n",
      " [4. 2.]]\n"
     ]
    }
   ],
   "source": [
    "import numpy as np\n",
    "\n",
    "A = np.matrix([[2, 4], [4, 2]])\n",
    "I = np.matrix(np.eye(2))\n",
    "\n",
    "print(A*I)\n",
    "print(I*A)"
   ]
  },
  {
   "cell_type": "markdown",
   "id": "6dea5641-fea1-4408-8074-9161228fc8c0",
   "metadata": {},
   "source": [
    "### 역행렬"
   ]
  },
  {
   "cell_type": "code",
   "execution_count": 14,
   "id": "304ab963-b96b-4239-87a9-a94618d4f5cc",
   "metadata": {},
   "outputs": [
    {
     "name": "stdout",
     "output_type": "stream",
     "text": [
      "[[ 3.]\n",
      " [-3.]]\n"
     ]
    }
   ],
   "source": [
    "import numpy as np\n",
    "\n",
    "A = np.matrix([[2, 1], [-6, 3]])\n",
    "b = np.matrix([[3], [-27]])\n",
    "\n",
    "print(A.I * b)"
   ]
  },
  {
   "cell_type": "markdown",
   "id": "ed771566-7101-4c14-8808-8d96a5463a3e",
   "metadata": {},
   "source": [
    "### 대각행렬"
   ]
  },
  {
   "cell_type": "code",
   "execution_count": 15,
   "id": "950c3122-1c98-41b7-a892-4caa17612766",
   "metadata": {},
   "outputs": [
    {
     "name": "stdout",
     "output_type": "stream",
     "text": [
      "[[0.5  0.   0.  ]\n",
      " [0.   1.   0.  ]\n",
      " [0.   0.   0.25]]\n",
      "[[1. 0. 0.]\n",
      " [0. 1. 0.]\n",
      " [0. 0. 1.]]\n"
     ]
    }
   ],
   "source": [
    "import numpy as np\n",
    "\n",
    "D = np.matrix(np.eye(3) * np.array([2, 1, 4]))\n",
    "\n",
    "print(D.I)\n",
    "print(D.I * D)"
   ]
  },
  {
   "cell_type": "code",
   "execution_count": 16,
   "id": "a870b880-eec6-492a-ab18-fefd579362ff",
   "metadata": {},
   "outputs": [],
   "source": [
    "### 대칭 행렬"
   ]
  },
  {
   "cell_type": "code",
   "execution_count": 17,
   "id": "9ea7c172-5977-4224-bf37-9977b2d652c6",
   "metadata": {},
   "outputs": [
    {
     "name": "stdout",
     "output_type": "stream",
     "text": [
      "[[ 6.00000000e+00 -1.31223519e-16]\n",
      " [-8.59474028e-18 -2.00000000e+00]]\n"
     ]
    }
   ],
   "source": [
    "import numpy as np\n",
    "\n",
    "A = np.matrix([[2, 4], [4, 2]])\n",
    "X = np.matrix([[0.7071, -0.7071], [0.7071, 0.7071]])\n",
    "D = X.I * A * X\n",
    "\n",
    "print(D)"
   ]
  },
  {
   "cell_type": "code",
   "execution_count": null,
   "id": "391966b7-ab67-48cf-9dc5-e6298b207ed1",
   "metadata": {},
   "outputs": [],
   "source": []
  }
 ],
 "metadata": {
  "kernelspec": {
   "display_name": "Python 3 (ipykernel)",
   "language": "python",
   "name": "python3"
  },
  "language_info": {
   "codemirror_mode": {
    "name": "ipython",
    "version": 3
   },
   "file_extension": ".py",
   "mimetype": "text/x-python",
   "name": "python",
   "nbconvert_exporter": "python",
   "pygments_lexer": "ipython3",
   "version": "3.9.0"
  }
 },
 "nbformat": 4,
 "nbformat_minor": 5
}
