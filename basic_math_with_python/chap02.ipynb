{
 "cells": [
  {
   "cell_type": "code",
   "execution_count": null,
   "id": "91c6facf-5bfa-4ac2-925d-09ec8229f6fb",
   "metadata": {},
   "outputs": [],
   "source": [
    "def arrowed_spines(fig, ax, remove_ticks=False):\n",
    "    \"\"\"\n",
    "    좌표축 화살표를 그리기 위한 함수\n",
    "    https://stackoverflow.com/questions/33737736/matplotlib-axis-arrow-tip\n",
    "    \"\"\"\n",
    "    xmin, xmax = ax.get_xlim() \n",
    "    ymin, ymax = ax.get_ylim()\n",
    "\n",
    "    # removing the default axis on all sides:\n",
    "    for side in ['bottom','right','top','left']:\n",
    "        ax.spines[side].set_visible(False)\n",
    "\n",
    "    if remove_ticks == True: \n",
    "        # removing the axis ticks\n",
    "        plt.xticks([]) # labels \n",
    "        plt.yticks([])\n",
    "        ax.xaxis.set_ticks_position('none') # tick markers\n",
    "        ax.yaxis.set_ticks_position('none')\n",
    "\n",
    "    # get width and height of axes object to compute \n",
    "    # matching arrowhead length and width\n",
    "    dps = fig.dpi_scale_trans.inverted()\n",
    "    bbox = ax.get_window_extent().transformed(dps)\n",
    "    width, height = bbox.width, bbox.height\n",
    "\n",
    "    # manual arrowhead width and length\n",
    "    hw = 1./50.*(ymax-ymin) \n",
    "    hl = 1./25.*(xmax-xmin)\n",
    "    lw = 1. # axis line width\n",
    "    ohg = 0.4 # arrow overhang\n",
    "\n",
    "    # compute matching arrowhead length and width\n",
    "    yhw = hw/(ymax-ymin)*(xmax-xmin)* height/width \n",
    "    yhl = hl/(xmax-xmin)*(ymax-ymin)* width/height\n",
    "\n",
    "    # draw x and y axis\n",
    "    ax.arrow(xmin, 0, xmax-xmin, 0., fc='k', ec='k', lw = lw, \n",
    "             head_width=hw, head_length=hl, #overhang = ohg, \n",
    "             length_includes_head= True, clip_on = False) \n",
    "\n",
    "    ax.arrow(0, ymin, 0., ymax-ymin, fc='k', ec='k', lw = lw, \n",
    "             head_width=yhw, head_length=yhl, #overhang = ohg, \n",
    "             length_includes_head= True, clip_on = False)"
   ]
  },
  {
   "cell_type": "code",
   "execution_count": 5,
   "id": "5f0cee5f-0443-48ea-80fe-2dcf4581aac9",
   "metadata": {
    "tags": []
   },
   "outputs": [
    {
     "name": "stdout",
     "output_type": "stream",
     "text": [
      "[2.25       2.59374246 2.70481383 2.71692393 2.71814593 2.71826824]\n"
     ]
    }
   ],
   "source": [
    "# 자연 상수\n",
    "\n",
    "import numpy as np\n",
    "\n",
    "x = np.array([2, 10, 100, 1000, 10000, 100000])\n",
    "y = (1+1 / x) ** x\n",
    "\n",
    "print(y)"
   ]
  },
  {
   "cell_type": "code",
   "execution_count": 6,
   "id": "144d35ef-8b23-4517-bfef-78347cd74eba",
   "metadata": {
    "tags": []
   },
   "outputs": [
    {
     "name": "stdout",
     "output_type": "stream",
     "text": [
      "2.0\n",
      "2.0\n"
     ]
    }
   ],
   "source": [
    "# 로그 함수\n",
    "\n",
    "import numpy as np\n",
    "\n",
    "def log(x, base=np.e):\n",
    "    return np.log(x) / np.log(base)\n",
    "\n",
    "print(log(4, 2))\n",
    "print(log(100, 10))"
   ]
  },
  {
   "cell_type": "code",
   "execution_count": 3,
   "id": "32640dc0-a4ef-4773-8d0e-5119c8682ac7",
   "metadata": {},
   "outputs": [
    {
     "data": {
      "image/png": "[encoded data removed]",
      "text/plain": [
       "<Figure size 720x504 with 1 Axes>"
      ]
     },
     "metadata": {},
     "output_type": "display_data"
    }
   ],
   "source": [
    "# 그래프 그리기\n",
    "\n",
    "import numpy as np\n",
    "import matplotlib.pyplot as plt\n",
    "import matplotlib as mpl\n",
    "\n",
    "mpl.style.use('bmh') # 그래프에서 사용할 테마 설정\n",
    "mpl.style.use('seaborn-whitegrid')\n",
    "\n",
    "fig = plt.figure(figsize=(10, 7)) # (10, 7) 크기의 그림 생성\n",
    "ax = fig.add_subplot(1, 1, 1) # 그림에 좌표축 생성\n",
    "ax.xaxis.set_tick_params(labelsize=18)\n",
    "ax.yaxis.set_tick_params(labelsize=18)\n",
    "plt.xlabel('$x$', fontsize=25) # LATEX 문법\n",
    "plt.ylabel('$y$', fontsize=25)\n",
    "\n",
    "x = np.linspace(-3, 2, 10)\n",
    "y = 2 * x + 4\n",
    "\n",
    "ax.plot(x, y, 'k')\n",
    "\n",
    "arrowed_spines(fig, ax) # 깃허브 참고\n",
    "\n",
    "plt.show()"
   ]
  }
 ],
 "metadata": {
  "kernelspec": {
   "display_name": "Python 3 (ipykernel)",
   "language": "python",
   "name": "python3"
  },
  "language_info": {
   "codemirror_mode": {
    "name": "ipython",
    "version": 3
   },
   "file_extension": ".py",
   "mimetype": "text/x-python",
   "name": "python",
   "nbconvert_exporter": "python",
   "pygments_lexer": "ipython3",
   "version": "3.9.0"
  }
 },
 "nbformat": 4,
 "nbformat_minor": 5
}
