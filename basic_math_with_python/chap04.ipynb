{
 "cells": [
  {
   "cell_type": "code",
   "execution_count": 2,
   "id": "225cc208-ac05-49be-8780-b766d62217b9",
   "metadata": {},
   "outputs": [
    {
     "name": "stdout",
     "output_type": "stream",
     "text": [
      "f(x)=25, df(x)=10 at x=5\n",
      "f(x)=25, df(x)=10.009999999999764 at x=5\n"
     ]
    }
   ],
   "source": [
    "# 평균 변화율\n",
    "\n",
    "import numpy as np\n",
    "\n",
    "x = 5\n",
    "\n",
    "# 함수와 순간의 변화율을 계산해주는 알려진 함수를 정의합니다.\n",
    "f = lambda x : x**2\n",
    "df = lambda x : 2*x # 변화율을 정확히 계산하는 함수\n",
    "\n",
    "# 정확한 변화율을 출력\n",
    "print(f\"f(x)={f(x)}, df(x)={df(x)} at x={x}\")\n",
    "# 0.01 공식을 통해 계산한 값을 출력\n",
    "print(f\"f(x)={f(x)}, df(x)={(f(x+0.01) - f(x)) / 0.01} at x={x}\")\n",
    "# 윗 결과는 큰 차이가 없음"
   ]
  },
  {
   "cell_type": "code",
   "execution_count": 3,
   "id": "10d6bb58-3ab5-4f2e-8a68-6612befc39ca",
   "metadata": {},
   "outputs": [
    {
     "name": "stdout",
     "output_type": "stream",
     "text": [
      "f(x)=148.4131591025766, df(x)=148.4131591025766 at x=5\n",
      "f(x)=148.4131591025766, df(x)=149.157704647007 at x=5\n"
     ]
    }
   ],
   "source": [
    "import numpy as np\n",
    "\n",
    "x = 5\n",
    "\n",
    "# 함수와 순간의 변화율을 계산해주는 알려진 함수를 정의합니다.\n",
    "f = lambda x : np.exp(x)\n",
    "df = lambda x : np.exp(x)\n",
    "\n",
    "print(f\"f(x)={f(x)}, df(x)={df(x)} at x={x}\")\n",
    "print(f\"f(x)={f(x)}, df(x)={(f(x+0.01) - f(x)) / 0.01} at x={x}\")\n",
    "# 결과가 제법 많이 차이나는데?"
   ]
  },
  {
   "cell_type": "code",
   "execution_count": null,
   "id": "6f0e4062-5855-4ee7-a85a-ac70f38efc08",
   "metadata": {},
   "outputs": [],
   "source": []
  }
 ],
 "metadata": {
  "kernelspec": {
   "display_name": "Python 3 (ipykernel)",
   "language": "python",
   "name": "python3"
  },
  "language_info": {
   "codemirror_mode": {
    "name": "ipython",
    "version": 3
   },
   "file_extension": ".py",
   "mimetype": "text/x-python",
   "name": "python",
   "nbconvert_exporter": "python",
   "pygments_lexer": "ipython3",
   "version": "3.9.0"
  }
 },
 "nbformat": 4,
 "nbformat_minor": 5
}
