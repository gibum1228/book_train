{
 "cells": [
  {
   "cell_type": "markdown",
   "id": "95762aec-8ab2-4a7b-9449-b9c4c41e7248",
   "metadata": {},
   "source": [
    "# 최적화: 눈먼 등산객이 언덕 가장 낮은 곳을 찾아가는 방법"
   ]
  }
 ],
 "metadata": {
  "kernelspec": {
   "display_name": "Python 3 (ipykernel)",
   "language": "python",
   "name": "python3"
  },
  "language_info": {
   "codemirror_mode": {
    "name": "ipython",
    "version": 3
   },
   "file_extension": ".py",
   "mimetype": "text/x-python",
   "name": "python",
   "nbconvert_exporter": "python",
   "pygments_lexer": "ipython3",
   "version": "3.9.0"
  }
 },
 "nbformat": 4,
 "nbformat_minor": 5
}
